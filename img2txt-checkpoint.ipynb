{
 "cells": [
  {
   "cell_type": "code",
   "execution_count": 1,
   "id": "ceaaa459",
   "metadata": {},
   "outputs": [],
   "source": [
    "import pytesseract\n",
    "import pandas as pd\n",
    "import numpy as np\n",
    "from PIL import Image as PIL_Image\n",
    "import cv2"
   ]
  },
  {
   "cell_type": "code",
   "execution_count": 2,
   "id": "d6985331",
   "metadata": {},
   "outputs": [
    {
     "data": {
      "text/html": [
       "<div>\n",
       "<style scoped>\n",
       "    .dataframe tbody tr th:only-of-type {\n",
       "        vertical-align: middle;\n",
       "    }\n",
       "\n",
       "    .dataframe tbody tr th {\n",
       "        vertical-align: top;\n",
       "    }\n",
       "\n",
       "    .dataframe thead th {\n",
       "        text-align: right;\n",
       "    }\n",
       "</style>\n",
       "<table border=\"1\" class=\"dataframe\">\n",
       "  <thead>\n",
       "    <tr style=\"text-align: right;\">\n",
       "      <th></th>\n",
       "      <th>Unnamed: 0.2</th>\n",
       "      <th>Unnamed: 0.1</th>\n",
       "      <th>Unnamed: 0</th>\n",
       "      <th>RollNo</th>\n",
       "      <th>no_of_classes</th>\n",
       "    </tr>\n",
       "  </thead>\n",
       "  <tbody>\n",
       "    <tr>\n",
       "      <th>0</th>\n",
       "      <td>0</td>\n",
       "      <td>0</td>\n",
       "      <td>0</td>\n",
       "      <td>70021642</td>\n",
       "      <td>0</td>\n",
       "    </tr>\n",
       "    <tr>\n",
       "      <th>1</th>\n",
       "      <td>1</td>\n",
       "      <td>1</td>\n",
       "      <td>1</td>\n",
       "      <td>170021643</td>\n",
       "      <td>5</td>\n",
       "    </tr>\n",
       "    <tr>\n",
       "      <th>2</th>\n",
       "      <td>2</td>\n",
       "      <td>2</td>\n",
       "      <td>2</td>\n",
       "      <td>170021644</td>\n",
       "      <td>0</td>\n",
       "    </tr>\n",
       "    <tr>\n",
       "      <th>3</th>\n",
       "      <td>3</td>\n",
       "      <td>3</td>\n",
       "      <td>3</td>\n",
       "      <td>170021645</td>\n",
       "      <td>0</td>\n",
       "    </tr>\n",
       "    <tr>\n",
       "      <th>4</th>\n",
       "      <td>4</td>\n",
       "      <td>4</td>\n",
       "      <td>4</td>\n",
       "      <td>170021646</td>\n",
       "      <td>0</td>\n",
       "    </tr>\n",
       "  </tbody>\n",
       "</table>\n",
       "</div>"
      ],
      "text/plain": [
       "   Unnamed: 0.2  Unnamed: 0.1  Unnamed: 0     RollNo  no_of_classes\n",
       "0             0             0           0   70021642              0\n",
       "1             1             1           1  170021643              5\n",
       "2             2             2           2  170021644              0\n",
       "3             3             3           3  170021645              0\n",
       "4             4             4           4  170021646              0"
      ]
     },
     "execution_count": 2,
     "metadata": {},
     "output_type": "execute_result"
    }
   ],
   "source": [
    "d= pd.read_excel('C:\\\\Users\\\\SRIRAM\\\\PycharmProjects\\\\img_extraction\\\\test.xlsx')\n",
    "n=pd.DataFrame(d)\n",
    "n"
   ]
  },
  {
   "cell_type": "code",
   "execution_count": 3,
   "id": "1d5052f3",
   "metadata": {},
   "outputs": [],
   "source": [
    "value=PIL_Image.open('id.jpeg')"
   ]
  },
  {
   "cell_type": "code",
   "execution_count": null,
   "id": "711779f1",
   "metadata": {},
   "outputs": [],
   "source": [
    "cam = cv2.VideoCapture(0)\n",
    "cv2.namedWindow(\"screenshot app\")\n",
    "img_counter=0 \n",
    "while True:\n",
    "    ret,frame=cam.read()\n",
    "    if not ret:\n",
    "        print('failed to grab frame')\n",
    "        break\n",
    "    cv2.imshow('test',frame)\n",
    "    \n",
    "    k=cv2.waitKey(1)\n",
    "    if k%256 == 27:\n",
    "        print('Escape hit,closing the app') \n",
    "        \n",
    "    elif k%256 == 32:\n",
    "        img_name=\"opencv_frame_{}.png\".format(img_counter)\n",
    "        cv2.imwrite(img_name,frame)\n",
    "        print('ss taken')\n",
    "        img_counter +=1\n",
    "    if cv2.waitKey(1) == ord('f'):\n",
    "        break\n",
    "cam.release()\n",
    "cv2.destroyAllWindows()\n",
    " "
   ]
  },
  {
   "cell_type": "code",
   "execution_count": 7,
   "id": "2c9bd99b",
   "metadata": {},
   "outputs": [],
   "source": [
    "\n",
    "# orig_img_path = \"C:\\\\Users\\\\SRIRAM\\\\PycharmProjects\\\\img_extraction\\\\id.jpeg\"\n",
    "# !fswebcam  --no-banner --save {orig_img_path} -d /dev/video0 2> /dev/null\n",
    "# img = PIL_Image.open(orig_img_path)\n",
    "# img\n"
   ]
  },
  {
   "cell_type": "code",
   "execution_count": null,
   "id": "925de4cf",
   "metadata": {},
   "outputs": [],
   "source": [
    "# bw_img = img.convert(\"L\")\n",
    "# bw_img"
   ]
  },
  {
   "cell_type": "code",
   "execution_count": 5,
   "id": "df7ea317",
   "metadata": {},
   "outputs": [],
   "source": [
    "pytesseract.pytesseract.tesseract_cmd = r'C:\\Program Files\\Tesseract-OCR\\tesseract.exe'"
   ]
  },
  {
   "cell_type": "code",
   "execution_count": 6,
   "id": "52c5322c",
   "metadata": {},
   "outputs": [],
   "source": [
    "myconfif = r\"--psm 11 --oem 3\"\n",
    "text=pytesseract.image_to_string(value, config=myconfif)"
   ]
  },
  {
   "cell_type": "code",
   "execution_count": 7,
   "id": "6436540e",
   "metadata": {},
   "outputs": [
    {
     "name": "stdout",
     "output_type": "stream",
     "text": [
      "pone) SST\n",
      "\n",
      "KAITHA RAHUL KUMAR RAO\n",
      "\n",
      "ae |\n",
      "\n",
      "Fathers Name : K NAGESWAR RAO\n",
      "\n",
      "Course / Branch: B.Tech / ECE\n",
      "\n",
      "Roll No\n",
      "\n",
      "> 19311A04J2\n",
      "\n",
      "Date Of Birth\n",
      "\n",
      ": 14,06.2002\n",
      "\n",
      "Course Duration: 2019-2023\n",
      "\n",
      ">\n",
      "\n",
      "SAP ID / BP NO: 070021642 / 0030010971\n",
      "\n",
      "PRINCIPAL\n",
      "\n",
      "Yamnampet, Ghatkesar Mandal, Hyderabad-501301\n",
      "\n",
      "+91 96406 66612 / 13|info@sreenidhi.edu.in\n",
      "\n",
      "www.sreenidhi.edu.in\n",
      "\n"
     ]
    }
   ],
   "source": [
    "print(text)"
   ]
  },
  {
   "cell_type": "code",
   "execution_count": 8,
   "id": "f02d5e86",
   "metadata": {},
   "outputs": [],
   "source": [
    "#y=list(text.split(\" \"))\n",
    "#q=y.index(\"BP\")\n",
    "#y[q+2]\n",
    "    \n",
    "    "
   ]
  },
  {
   "cell_type": "code",
   "execution_count": 9,
   "id": "16e44027",
   "metadata": {},
   "outputs": [],
   "source": [
    "#attendence = {\"RollNo\": ['070021642','19311A04J2','19311A04J3','19311A04J4','19311A04J5'],\"no_of_classes\": [0,0,0,0,0]}\n",
    "#ttendence"
   ]
  },
  {
   "cell_type": "code",
   "execution_count": 10,
   "id": "04e9ea73",
   "metadata": {},
   "outputs": [],
   "source": [
    "#n=pd.DataFrame(attendence)\n",
    "#n"
   ]
  },
  {
   "cell_type": "code",
   "execution_count": 11,
   "id": "52349889",
   "metadata": {},
   "outputs": [
    {
     "data": {
      "text/plain": [
       "0    False\n",
       "1     True\n",
       "2    False\n",
       "3    False\n",
       "4    False\n",
       "Name: RollNo, dtype: bool"
      ]
     },
     "execution_count": 11,
     "metadata": {},
     "output_type": "execute_result"
    }
   ],
   "source": [
    "#s=y[q+2]\n",
    "s=170021643\n",
    "updated = n['RollNo']==s\n",
    "updated"
   ]
  },
  {
   "cell_type": "code",
   "execution_count": 12,
   "id": "2e13cd19",
   "metadata": {},
   "outputs": [],
   "source": [
    "reqd_Index = n[n['RollNo']==s].index.tolist()\n",
    "indexvalue = reqd_Index[0]"
   ]
  },
  {
   "cell_type": "code",
   "execution_count": 13,
   "id": "ce25c673",
   "metadata": {},
   "outputs": [
    {
     "data": {
      "text/html": [
       "<div>\n",
       "<style scoped>\n",
       "    .dataframe tbody tr th:only-of-type {\n",
       "        vertical-align: middle;\n",
       "    }\n",
       "\n",
       "    .dataframe tbody tr th {\n",
       "        vertical-align: top;\n",
       "    }\n",
       "\n",
       "    .dataframe thead th {\n",
       "        text-align: right;\n",
       "    }\n",
       "</style>\n",
       "<table border=\"1\" class=\"dataframe\">\n",
       "  <thead>\n",
       "    <tr style=\"text-align: right;\">\n",
       "      <th></th>\n",
       "      <th>Unnamed: 0.1</th>\n",
       "      <th>Unnamed: 0</th>\n",
       "      <th>RollNo</th>\n",
       "      <th>no_of_classes</th>\n",
       "    </tr>\n",
       "  </thead>\n",
       "  <tbody>\n",
       "    <tr>\n",
       "      <th>0</th>\n",
       "      <td>0</td>\n",
       "      <td>0</td>\n",
       "      <td>70021642</td>\n",
       "      <td>0</td>\n",
       "    </tr>\n",
       "    <tr>\n",
       "      <th>1</th>\n",
       "      <td>1</td>\n",
       "      <td>1</td>\n",
       "      <td>170021643</td>\n",
       "      <td>5</td>\n",
       "    </tr>\n",
       "    <tr>\n",
       "      <th>2</th>\n",
       "      <td>2</td>\n",
       "      <td>2</td>\n",
       "      <td>170021644</td>\n",
       "      <td>0</td>\n",
       "    </tr>\n",
       "    <tr>\n",
       "      <th>3</th>\n",
       "      <td>3</td>\n",
       "      <td>3</td>\n",
       "      <td>170021645</td>\n",
       "      <td>0</td>\n",
       "    </tr>\n",
       "    <tr>\n",
       "      <th>4</th>\n",
       "      <td>4</td>\n",
       "      <td>4</td>\n",
       "      <td>170021646</td>\n",
       "      <td>0</td>\n",
       "    </tr>\n",
       "  </tbody>\n",
       "</table>\n",
       "</div>"
      ],
      "text/plain": [
       "   Unnamed: 0.1  Unnamed: 0     RollNo  no_of_classes\n",
       "0             0           0   70021642              0\n",
       "1             1           1  170021643              5\n",
       "2             2           2  170021644              0\n",
       "3             3           3  170021645              0\n",
       "4             4           4  170021646              0"
      ]
     },
     "execution_count": 13,
     "metadata": {},
     "output_type": "execute_result"
    }
   ],
   "source": [
    "n.at[indexvalue,'no_of_classes'] = n['no_of_classes'].iloc[indexvalue]+1\n",
    "n"
   ]
  },
  {
   "cell_type": "code",
   "execution_count": 14,
   "id": "d8309b69",
   "metadata": {},
   "outputs": [
    {
     "data": {
      "text/html": [
       "<div>\n",
       "<style scoped>\n",
       "    .dataframe tbody tr th:only-of-type {\n",
       "        vertical-align: middle;\n",
       "    }\n",
       "\n",
       "    .dataframe tbody tr th {\n",
       "        vertical-align: top;\n",
       "    }\n",
       "\n",
       "    .dataframe thead th {\n",
       "        text-align: right;\n",
       "    }\n",
       "</style>\n",
       "<table border=\"1\" class=\"dataframe\">\n",
       "  <thead>\n",
       "    <tr style=\"text-align: right;\">\n",
       "      <th></th>\n",
       "      <th>Unnamed: 0.1</th>\n",
       "      <th>Unnamed: 0</th>\n",
       "      <th>RollNo</th>\n",
       "      <th>no_of_classes</th>\n",
       "    </tr>\n",
       "  </thead>\n",
       "  <tbody>\n",
       "    <tr>\n",
       "      <th>0</th>\n",
       "      <td>0</td>\n",
       "      <td>0</td>\n",
       "      <td>70021642</td>\n",
       "      <td>0</td>\n",
       "    </tr>\n",
       "    <tr>\n",
       "      <th>1</th>\n",
       "      <td>1</td>\n",
       "      <td>1</td>\n",
       "      <td>170021643</td>\n",
       "      <td>5</td>\n",
       "    </tr>\n",
       "    <tr>\n",
       "      <th>2</th>\n",
       "      <td>2</td>\n",
       "      <td>2</td>\n",
       "      <td>170021644</td>\n",
       "      <td>0</td>\n",
       "    </tr>\n",
       "    <tr>\n",
       "      <th>3</th>\n",
       "      <td>3</td>\n",
       "      <td>3</td>\n",
       "      <td>170021645</td>\n",
       "      <td>0</td>\n",
       "    </tr>\n",
       "    <tr>\n",
       "      <th>4</th>\n",
       "      <td>4</td>\n",
       "      <td>4</td>\n",
       "      <td>170021646</td>\n",
       "      <td>0</td>\n",
       "    </tr>\n",
       "  </tbody>\n",
       "</table>\n",
       "</div>"
      ],
      "text/plain": [
       "   Unnamed: 0.1  Unnamed: 0     RollNo  no_of_classes\n",
       "0             0           0   70021642              0\n",
       "1             1           1  170021643              5\n",
       "2             2           2  170021644              0\n",
       "3             3           3  170021645              0\n",
       "4             4           4  170021646              0"
      ]
     },
     "execution_count": 14,
     "metadata": {},
     "output_type": "execute_result"
    }
   ],
   "source": [
    "n"
   ]
  },
  {
   "cell_type": "code",
   "execution_count": 15,
   "id": "8200d20d",
   "metadata": {},
   "outputs": [
    {
     "data": {
      "text/plain": [
       "Unnamed: 0.1             1\n",
       "Unnamed: 0               1\n",
       "RollNo           170021643\n",
       "no_of_classes            5\n",
       "Name: 1, dtype: int64"
      ]
     },
     "metadata": {},
     "output_type": "display_data"
    }
   ],
   "source": [
    "display(n.iloc[indexvalue])"
   ]
  },
  {
   "cell_type": "code",
   "execution_count": 16,
   "id": "ef6fdd7d",
   "metadata": {},
   "outputs": [],
   "source": [
    "n.to_excel('C:\\\\Users\\\\SRIRAM\\\\PycharmProjects\\\\img_extraction\\\\test.xlsx')"
   ]
  },
  {
   "cell_type": "code",
   "execution_count": null,
   "id": "1df88131",
   "metadata": {},
   "outputs": [],
   "source": []
  }
 ],
 "metadata": {
  "kernelspec": {
   "display_name": "Python 3 (ipykernel)",
   "language": "python",
   "name": "python3"
  },
  "language_info": {
   "codemirror_mode": {
    "name": "ipython",
    "version": 3
   },
   "file_extension": ".py",
   "mimetype": "text/x-python",
   "name": "python",
   "nbconvert_exporter": "python",
   "pygments_lexer": "ipython3",
   "version": "3.9.13"
  }
 },
 "nbformat": 4,
 "nbformat_minor": 5
}
